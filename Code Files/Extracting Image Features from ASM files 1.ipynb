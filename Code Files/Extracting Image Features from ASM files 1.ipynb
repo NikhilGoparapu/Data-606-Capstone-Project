{
 "cells": [
  {
   "cell_type": "code",
   "execution_count": 1,
   "metadata": {},
   "outputs": [],
   "source": [
    "import warnings\n",
    "warnings.filterwarnings(\"ignore\")\n",
    "import shutil\n",
    "import os\n",
    "\n",
    "import pandas as pd\n",
    "import numpy as np\n",
    "\n",
    "import matplotlib.pyplot as plt\n",
    "import seaborn as sns\n",
    "\n",
    "from tqdm import tqdm"
   ]
  },
  {
   "cell_type": "code",
   "execution_count": 4,
   "metadata": {},
   "outputs": [],
   "source": [
    "os.chdir(\"C:/UMBC/606 Capstone/Data/train/\")"
   ]
  },
  {
   "cell_type": "code",
   "execution_count": 5,
   "metadata": {},
   "outputs": [],
   "source": [
    "# Creating 8 folders\n",
    "\n",
    "#this code tells us about random split of files into five folders\n",
    "folder_1 ='first'\n",
    "folder_2 ='second'\n",
    "folder_3 ='third'\n",
    "folder_4 ='fourth'\n",
    "folder_5 ='fifth'\n",
    "\n",
    "folder_6 = 'byte_images'\n",
    "\n",
    "for i in [folder_1,folder_2,folder_3,folder_4,folder_5,folder_6]:\n",
    "    if not os.path.isdir(i):\n",
    "        os.makedirs(i)\n"
   ]
  },
  {
   "cell_type": "code",
   "execution_count": 10,
   "metadata": {},
   "outputs": [
    {
     "name": "stderr",
     "output_type": "stream",
     "text": [
      "100%|███████████████████████████████████████████████████████████████████████████| 10868/10868 [00:17<00:00, 622.12it/s]\n"
     ]
    }
   ],
   "source": [
    "# moving the byte files into the above created 5 folders\n",
    "\n",
    "source='byte_files/'\n",
    "files = os.listdir('byte_files')\n",
    "\n",
    "for i in tqdm(range(0,len(files))):\n",
    "    \n",
    "    if(files[i].endswith('bytes')):\n",
    "        \n",
    "        if i % 5==0:\n",
    "            shutil.move(source+files[i],'first')\n",
    "        elif i%5==1:\n",
    "            shutil.move(source+files[i],'second')\n",
    "        elif i%5 ==2:\n",
    "            shutil.move(source+files[i],'third')\n",
    "        elif i%5 ==3:\n",
    "            shutil.move(source+files[i],'fourth')\n",
    "        elif i%5 ==4:\n",
    "            shutil.move(source+files[i],'fifth')"
   ]
  },
  {
   "cell_type": "code",
   "execution_count": 12,
   "metadata": {},
   "outputs": [],
   "source": [
    "# Reference: https://towardsdatascience.com/malware-classification-using-machine-learning-7c648fb1da79\n",
    "# function to convert asm file to image\n",
    "\n",
    "import time, array\n",
    "import imageio, cv2\n",
    "from tqdm import tqdm\n",
    "import os\n",
    "import numpy as np\n",
    "\n",
    "def convert_asm_to_images_p1():\n",
    "\n",
    "    sourcepath='first/'\n",
    "    destpath='byte_images/'\n",
    "\n",
    "    start_time = time.time()\n",
    "    files=os.listdir(sourcepath)\n",
    "    \n",
    "    for file in tqdm(files):\n",
    "        if(file.endswith('.bytes')):\n",
    "            f=open(sourcepath+file, 'rb')\n",
    "            ln=os.path.getsize(sourcepath+file)\n",
    "            width=int(ln**0.5)\n",
    "            rem=int(ln/width)\n",
    "            a=array.array(\"B\")\n",
    "            a.frombytes(f.read())\n",
    "            f.close()\n",
    "            g = np.reshape(a[:width * width], (width, width))\n",
    "            g=np.uint8(g)\n",
    "            imageio.imwrite(destpath+file.split('.')[0]+'.png',g)\n",
    "            \n",
    "    print('Time taken to convert the files(in Minutes):',(time.time() - start_time)/3600)"
   ]
  },
  {
   "cell_type": "code",
   "execution_count": 13,
   "metadata": {},
   "outputs": [
    {
     "name": "stderr",
     "output_type": "stream",
     "text": [
      "100%|██████████████████████████████████████████████████████████████████████████████| 2174/2174 [29:36<00:00,  1.22it/s]"
     ]
    },
    {
     "name": "stdout",
     "output_type": "stream",
     "text": [
      "Time taken to convert the files(in Minutes): 0.49333691365189025\n"
     ]
    },
    {
     "name": "stderr",
     "output_type": "stream",
     "text": [
      "\n"
     ]
    }
   ],
   "source": [
    "convert_asm_to_images_p1()"
   ]
  },
  {
   "cell_type": "code",
   "execution_count": null,
   "metadata": {},
   "outputs": [],
   "source": []
  }
 ],
 "metadata": {
  "kernelspec": {
   "display_name": "Python 3",
   "language": "python",
   "name": "python3"
  },
  "language_info": {
   "codemirror_mode": {
    "name": "ipython",
    "version": 3
   },
   "file_extension": ".py",
   "mimetype": "text/x-python",
   "name": "python",
   "nbconvert_exporter": "python",
   "pygments_lexer": "ipython3",
   "version": "3.7.6"
  }
 },
 "nbformat": 4,
 "nbformat_minor": 4
}
