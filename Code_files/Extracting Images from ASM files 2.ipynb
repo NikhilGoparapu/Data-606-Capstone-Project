{
 "cells": [
  {
   "cell_type": "code",
   "execution_count": 1,
   "metadata": {},
   "outputs": [],
   "source": [
    "# Reference: https://towardsdatascience.com/malware-classification-using-machine-learning-7c648fb1da79\n",
    "# function to convert asm file to image\n",
    "\n",
    "import time, array\n",
    "import imageio, cv2\n",
    "from tqdm import tqdm\n",
    "import os\n",
    "import numpy as np\n",
    "\n",
    "def convert_asm_to_images_p2():\n",
    "\n",
    "    sourcepath='second/'\n",
    "    destpath='byte_images/'\n",
    "\n",
    "    start_time = time.time()\n",
    "    files=os.listdir(sourcepath)\n",
    "    \n",
    "    for file in tqdm(files):\n",
    "        if(file.endswith('.bytes')):\n",
    "            f=open(sourcepath+file, 'rb')\n",
    "            ln=os.path.getsize(sourcepath+file)\n",
    "            width=int(ln**0.5)\n",
    "            rem=int(ln/width)\n",
    "            a=array.array(\"B\")\n",
    "            a.frombytes(f.read())\n",
    "            f.close()\n",
    "            g = np.reshape(a[:width * width], (width, width))\n",
    "            g=np.uint8(g)\n",
    "            imageio.imwrite(destpath+file.split('.')[0]+'.png',g)\n",
    "            \n",
    "    print('Time taken to convert the files(in Minutes):',(time.time() - start_time)/3600)"
   ]
  },
  {
   "cell_type": "code",
   "execution_count": 3,
   "metadata": {},
   "outputs": [
    {
     "name": "stderr",
     "output_type": "stream",
     "text": [
      "100%|██████████████████████████████████████████████████████████████████████████████| 2174/2174 [32:09<00:00,  1.13it/s]"
     ]
    },
    {
     "name": "stdout",
     "output_type": "stream",
     "text": [
      "Time taken to convert the files(in Minutes): 0.535853147175577\n"
     ]
    },
    {
     "name": "stderr",
     "output_type": "stream",
     "text": [
      "\n"
     ]
    }
   ],
   "source": [
    "os.chdir(\"C:/UMBC/606 Capstone/Data/train/\")\n",
    "convert_asm_to_images_p2()"
   ]
  },
  {
   "cell_type": "code",
   "execution_count": null,
   "metadata": {},
   "outputs": [],
   "source": []
  }
 ],
 "metadata": {
  "kernelspec": {
   "display_name": "Python 3",
   "language": "python",
   "name": "python3"
  },
  "language_info": {
   "codemirror_mode": {
    "name": "ipython",
    "version": 3
   },
   "file_extension": ".py",
   "mimetype": "text/x-python",
   "name": "python",
   "nbconvert_exporter": "python",
   "pygments_lexer": "ipython3",
   "version": "3.7.6"
  }
 },
 "nbformat": 4,
 "nbformat_minor": 4
}
